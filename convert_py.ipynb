{
 "cells": [
  {
   "cell_type": "code",
   "execution_count": 1,
   "id": "5b1665c7-975f-4a07-94b9-763343c2721a",
   "metadata": {},
   "outputs": [
    {
     "name": "stdout",
     "output_type": "stream",
     "text": [
      "[NbConvertApp] Converting notebook create_table_csv.ipynb to script\n",
      "[NbConvertApp] Writing 3622 bytes to create_table_csv.py\n"
     ]
    }
   ],
   "source": [
    "!jupyter nbconvert --to script create_table_csv.ipynb"
   ]
  },
  {
   "cell_type": "code",
   "execution_count": null,
   "id": "2aed6ff5-cc17-4b6c-9843-91b26d301686",
   "metadata": {},
   "outputs": [],
   "source": []
  }
 ],
 "metadata": {
  "kernelspec": {
   "display_name": "Python 3 (ipykernel)",
   "language": "python",
   "name": "python3"
  },
  "language_info": {
   "codemirror_mode": {
    "name": "ipython",
    "version": 3
   },
   "file_extension": ".py",
   "mimetype": "text/x-python",
   "name": "python",
   "nbconvert_exporter": "python",
   "pygments_lexer": "ipython3",
   "version": "3.10.12"
  }
 },
 "nbformat": 4,
 "nbformat_minor": 5
}
